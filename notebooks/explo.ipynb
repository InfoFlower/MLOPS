{
 "cells": [
  {
   "cell_type": "code",
   "execution_count": 1,
   "metadata": {},
   "outputs": [],
   "source": [
    "import polars as pl\n",
    "import os\n",
    "import json\n",
    "from io import StringIO\n",
    "import sys\n",
    "sys.path.append('../')"
   ]
  },
  {
   "cell_type": "code",
   "execution_count": 2,
   "metadata": {},
   "outputs": [],
   "source": [
    "from mlflow import MlflowClient"
   ]
  },
  {
   "cell_type": "code",
   "execution_count": 3,
   "metadata": {},
   "outputs": [],
   "source": [
    "client = MlflowClient(tracking_uri=\"http://127.0.0.1:8080\")"
   ]
  },
  {
   "cell_type": "code",
   "execution_count": 6,
   "metadata": {},
   "outputs": [
    {
     "data": {
      "text/plain": [
       "[<Experiment: artifact_location='mlflow-artifacts:/0', creation_time=1734268746522, experiment_id='0', last_update_time=1734268746522, lifecycle_stage='active', name='Default', tags={}>]"
      ]
     },
     "execution_count": 6,
     "metadata": {},
     "output_type": "execute_result"
    }
   ],
   "source": [
    "client.search_experiments()"
   ]
  },
  {
   "cell_type": "code",
   "execution_count": 14,
   "metadata": {},
   "outputs": [],
   "source": [
    "# Provide an Experiment description that will appear in the UI\n",
    "experiment_description = (\n",
    "    \"This is the grocery forecasting project. \"\n",
    "    \"This experiment contains the produce models for apples.\"\n",
    ")\n",
    "\n",
    "# Provide searchable tags that define characteristics of the Runs that\n",
    "# will be in this Experiment\n",
    "experiment_tags = {\n",
    "    \"project_name\": \"grocery-forecasting\",\n",
    "    \"store_dept\": \"produce\",\n",
    "    \"team\": \"stores-ml\",\n",
    "    \"project_quarter\": \"Q3-2023\",\n",
    "    \"mlflow.note.content\": experiment_description,\n",
    "}\n",
    "\n",
    "# Create the Experiment, providing a unique name\n",
    "produce_apples_experiment = client.create_experiment(\n",
    "    name=\"caca\", tags=experiment_tags\n",
    ")"
   ]
  },
  {
   "cell_type": "code",
   "execution_count": 8,
   "metadata": {},
   "outputs": [],
   "source": [
    "import mlflow"
   ]
  },
  {
   "cell_type": "code",
   "execution_count": 24,
   "metadata": {},
   "outputs": [],
   "source": [
    "import numpy as np\n",
    "import polars as pl\n",
    "from sklearn.linear_model import LogisticRegression\n",
    "\n",
    "####### JEU DE DONNEES TEST FAIT PAR IA #############\n",
    "# Créer des données de test\n",
    "data = {\n",
    "    \"feature1\": np.random.rand(100),\n",
    "    \"feature2\": np.random.rand(100),\n",
    "    \"feature3\": np.random.rand(100),\n",
    "    \"target\": np.random.randint(0, 2, 100)  # Target binaire pour un exemple de classification\n",
    "}\n",
    "\n",
    "# Créer un DataFrame Polars\n",
    "df = pl.DataFrame(data)\n",
    "model = LogisticRegression()"
   ]
  },
  {
   "cell_type": "code",
   "execution_count": 25,
   "metadata": {},
   "outputs": [
    {
     "data": {
      "text/html": [
       "<div><style>\n",
       ".dataframe > thead > tr,\n",
       ".dataframe > tbody > tr {\n",
       "  text-align: right;\n",
       "  white-space: pre-wrap;\n",
       "}\n",
       "</style>\n",
       "<small>shape: (100, 4)</small><table border=\"1\" class=\"dataframe\"><thead><tr><th>feature1</th><th>feature2</th><th>feature3</th><th>target</th></tr><tr><td>f64</td><td>f64</td><td>f64</td><td>i32</td></tr></thead><tbody><tr><td>0.763211</td><td>0.455287</td><td>0.587256</td><td>1</td></tr><tr><td>0.934789</td><td>0.92405</td><td>0.144738</td><td>0</td></tr><tr><td>0.281257</td><td>0.43753</td><td>0.654733</td><td>0</td></tr><tr><td>0.507927</td><td>0.844594</td><td>0.885824</td><td>0</td></tr><tr><td>0.899802</td><td>0.115714</td><td>0.146764</td><td>1</td></tr><tr><td>&hellip;</td><td>&hellip;</td><td>&hellip;</td><td>&hellip;</td></tr><tr><td>0.1728</td><td>0.363521</td><td>0.912948</td><td>0</td></tr><tr><td>0.597286</td><td>0.427649</td><td>0.767302</td><td>1</td></tr><tr><td>0.841537</td><td>0.159495</td><td>0.967711</td><td>0</td></tr><tr><td>0.176515</td><td>0.017658</td><td>0.631164</td><td>1</td></tr><tr><td>0.632885</td><td>0.443157</td><td>0.12242</td><td>1</td></tr></tbody></table></div>"
      ],
      "text/plain": [
       "shape: (100, 4)\n",
       "┌──────────┬──────────┬──────────┬────────┐\n",
       "│ feature1 ┆ feature2 ┆ feature3 ┆ target │\n",
       "│ ---      ┆ ---      ┆ ---      ┆ ---    │\n",
       "│ f64      ┆ f64      ┆ f64      ┆ i32    │\n",
       "╞══════════╪══════════╪══════════╪════════╡\n",
       "│ 0.763211 ┆ 0.455287 ┆ 0.587256 ┆ 1      │\n",
       "│ 0.934789 ┆ 0.92405  ┆ 0.144738 ┆ 0      │\n",
       "│ 0.281257 ┆ 0.43753  ┆ 0.654733 ┆ 0      │\n",
       "│ 0.507927 ┆ 0.844594 ┆ 0.885824 ┆ 0      │\n",
       "│ 0.899802 ┆ 0.115714 ┆ 0.146764 ┆ 1      │\n",
       "│ …        ┆ …        ┆ …        ┆ …      │\n",
       "│ 0.1728   ┆ 0.363521 ┆ 0.912948 ┆ 0      │\n",
       "│ 0.597286 ┆ 0.427649 ┆ 0.767302 ┆ 1      │\n",
       "│ 0.841537 ┆ 0.159495 ┆ 0.967711 ┆ 0      │\n",
       "│ 0.176515 ┆ 0.017658 ┆ 0.631164 ┆ 1      │\n",
       "│ 0.632885 ┆ 0.443157 ┆ 0.12242  ┆ 1      │\n",
       "└──────────┴──────────┴──────────┴────────┘"
      ]
     },
     "execution_count": 25,
     "metadata": {},
     "output_type": "execute_result"
    }
   ],
   "source": [
    "df"
   ]
  },
  {
   "cell_type": "code",
   "execution_count": 31,
   "metadata": {},
   "outputs": [],
   "source": [
    "X=df[['feature1','feature2','feature3']].to_numpy()\n",
    "y=df['target'].to_numpy()"
   ]
  },
  {
   "cell_type": "code",
   "execution_count": 33,
   "metadata": {},
   "outputs": [],
   "source": [
    "model_fit=model.fit(X,y)\n",
    "params=model_fit.get_params()"
   ]
  },
  {
   "cell_type": "code",
   "execution_count": null,
   "metadata": {},
   "outputs": [],
   "source": []
  },
  {
   "cell_type": "code",
   "execution_count": 35,
   "metadata": {},
   "outputs": [
    {
     "name": "stderr",
     "output_type": "stream",
     "text": [
      "c:\\Users\\lenovo\\Desktop\\Cours\\034_MLOPS\\.env\\Lib\\site-packages\\sklearn\\utils\\validation.py:2732: UserWarning: X has feature names, but LogisticRegression was fitted without feature names\n",
      "  warnings.warn(\n"
     ]
    }
   ],
   "source": [
    "vars_explicatives=['last_reported', 'DAY', 'DAY OF WEEK','DAY OF YEAR', 'HOUR', 'MIN', 'numDocks','delta']\n",
    "var_expliquee='numBikesAvailable'\n",
    "X=data_featured[vars_explicatives]\n",
    "y=data_featured[var_expliquee]\n",
    "X_train,X_test,y_train,y_test=train_test_split(X,y,test_size=0.3)\n",
    "clf=DecisionTreeClassifier()\n",
    "clf.fit(X_train,y_train)\n",
    "clf.score(X_test,y_test)"
   ]
  },
  {
   "cell_type": "code",
   "execution_count": 37,
   "metadata": {},
   "outputs": [],
   "source": [
    "import logging\n",
    "logging.basicConfig(level=logging.DEBUG)"
   ]
  },
  {
   "cell_type": "code",
   "execution_count": 40,
   "metadata": {},
   "outputs": [],
   "source": [
    "def fetch_logged_data(run_id):\n",
    "    client = MlflowClient()\n",
    "    data = client.get_run(run_id).data\n",
    "    tags = {k: v for k, v in data.tags.items() if not k.startswith(\"mlflow.\")}\n",
    "    artifacts = [f.path for f in client.list_artifacts(run_id, \"model\")]\n",
    "    return data.params, data.metrics, tags, artifacts"
   ]
  },
  {
   "cell_type": "code",
   "execution_count": 45,
   "metadata": {},
   "outputs": [
    {
     "name": "stderr",
     "output_type": "stream",
     "text": [
      "2024/12/17 19:06:23 WARNING mlflow.utils.autologging_utils: MLflow sklearn autologging is known to be compatible with 0.24.1 <= scikit-learn <= 1.5.2, but the installed version is 1.6.0. If you encounter errors during autologging, try upgrading / downgrading scikit-learn to a compatible version, or try upgrading MLflow.\n",
      "2024/12/17 19:06:23 INFO mlflow.utils.autologging_utils: Created MLflow autologging run with ID '751080c22cf44df0a1981644a9c35a3b', which will track hyperparameters, performance metrics, model artifacts, and lineage information for the current sklearn workflow\n",
      "DEBUG:matplotlib.colorbar:locator: <matplotlib.ticker.AutoLocator object at 0x000001ECB424D490>\n"
     ]
    }
   ],
   "source": [
    "# enable autologging\n",
    "mlflow.sklearn.autolog()\n",
    "\n",
    "# prepare training data\n",
    "X = np.array([[1, 1], [1, 2], [2, 2], [2, 3]])\n",
    "y = np.dot(X, np.array([1, 2])) + 3\n",
    "\n",
    "# train a model\n",
    "model = LogisticRegression()\n",
    "mod=model.fit(X, y)"
   ]
  },
  {
   "cell_type": "code",
   "execution_count": 58,
   "metadata": {},
   "outputs": [
    {
     "name": "stderr",
     "output_type": "stream",
     "text": [
      "2024/12/17 19:17:06 WARNING mlflow.sklearn: Failed to log evaluation dataset information to MLflow Tracking. Reason: Run '751080c22cf44df0a1981644a9c35a3b' not found\n"
     ]
    },
    {
     "name": "stdout",
     "output_type": "stream",
     "text": [
      "file:///c:/Users/lenovo/Desktop/Cours/034_MLOPS/notebooks/../mlruns/558465240751998104/357cfa0dfff04426bc836fd6d9edbba5/artifacts\n"
     ]
    },
    {
     "name": "stderr",
     "output_type": "stream",
     "text": [
      "2024/12/17 19:17:11 WARNING mlflow.sklearn: Failed to log evaluation dataset information to MLflow Tracking. Reason: Run '751080c22cf44df0a1981644a9c35a3b' not found\n",
      "INFO:root:Model logged with run_id: b63df56efb544df7abb435182d8156bf\n"
     ]
    }
   ],
   "source": [
    "mlflow.set_tracking_uri(\"file:../mlruns\")\n",
    "mlflow.set_experiment(experiment_name='caca_2')\n",
    "print(mlflow.get_artifact_uri())\n",
    "mlflow.get_experiment\n",
    "with mlflow.start_run(nested=True) as run:\n",
    "    mlflow.sklearn.log_model(model,'test',signature=,input_example=X)\n",
    "    mlflow.log_param(\"hyperparam_name\", mod.get_params())\n",
    "    run_id = run.info.run_id\n",
    "    logging.info(f\"Model logged with run_id: {run_id}\")"
   ]
  },
  {
   "cell_type": "markdown",
   "metadata": {},
   "source": []
  }
 ],
 "metadata": {
  "kernelspec": {
   "display_name": "Python 3",
   "language": "python",
   "name": "python3"
  },
  "language_info": {
   "codemirror_mode": {
    "name": "ipython",
    "version": 3
   },
   "file_extension": ".py",
   "mimetype": "text/x-python",
   "name": "python",
   "nbconvert_exporter": "python",
   "pygments_lexer": "ipython3",
   "version": "3.11.9"
  }
 },
 "nbformat": 4,
 "nbformat_minor": 2
}
