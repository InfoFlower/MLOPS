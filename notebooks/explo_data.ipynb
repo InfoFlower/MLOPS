{
 "cells": [
  {
   "cell_type": "code",
   "execution_count": 1,
   "metadata": {},
   "outputs": [],
   "source": [
    "import numpy as np\n",
    "import pandas as pd"
   ]
  },
  {
   "cell_type": "code",
   "execution_count": 30,
   "metadata": {},
   "outputs": [],
   "source": [
    "week_064=pd.read_csv(\"../data/restaurant_1_week_064.csv\")\n",
    "week_065=pd.read_csv(\"../data/restaurant_1_week_065.csv\")\n",
    "week_098=pd.read_csv(\"../data/restaurant_1_week_098.csv\")\n",
    "week_172=pd.read_csv(\"../data/restaurant_1_week_172.csv\")"
   ]
  },
  {
   "cell_type": "code",
   "execution_count": null,
   "metadata": {},
   "outputs": [],
   "source": [
    "print(\"Nombre de commandes :\",len(week_064),\"\\n Nombre d'articles :\",len(np.unique(week_064['Item Name'])),\"\\n Prix moyen :\",np.average(week_064[\"Product Price\"]),\"\\n CA moyen :\",np.average(week_064[\"Product Price\"]*week_064[\"Quantity\"]))"
   ]
  },
  {
   "cell_type": "code",
   "execution_count": null,
   "metadata": {},
   "outputs": [],
   "source": [
    "print(\"Nombre de commandes :\",len(week_098),\"\\n Nombre d'articles :\",len(np.unique(week_098['Item Name'])),\"\\n Prix moyen :\",np.average(week_098[\"Product Price\"]),\"\\n CA moyen :\",np.average(week_098[\"Product Price\"]*week_098[\"Quantity\"]))"
   ]
  },
  {
   "cell_type": "code",
   "execution_count": null,
   "metadata": {},
   "outputs": [],
   "source": [
    "print(\"Nombre de commandes :\",len(week_172),\"\\n Nombre d'articles :\",len(np.unique(week_172['Item Name'])),\"\\n Prix moyen :\",np.average(week_172[\"Product Price\"]),\"\\n CA moyen :\",np.average(week_172[\"Product Price\"]*week_172[\"Quantity\"]))"
   ]
  },
  {
   "cell_type": "code",
   "execution_count": null,
   "metadata": {},
   "outputs": [],
   "source": [
    "week_064"
   ]
  },
  {
   "cell_type": "code",
   "execution_count": 43,
   "metadata": {},
   "outputs": [],
   "source": [
    "X=[week_064.Quantity,week_064[\"Product Price\"]]\n",
    "Y=np.array(round(sum(week_065.Quantity*week_065[\"Product Price\"]),2))"
   ]
  },
  {
   "cell_type": "code",
   "execution_count": null,
   "metadata": {},
   "outputs": [],
   "source": [
    "Y"
   ]
  },
  {
   "cell_type": "code",
   "execution_count": null,
   "metadata": {},
   "outputs": [],
   "source": [
    "regr=svm.SVR()\n",
    "regr.fit(X,Y.reshape(1,-1))"
   ]
  },
  {
   "cell_type": "code",
   "execution_count": null,
   "metadata": {},
   "outputs": [],
   "source": [
    "sum(week_065.Quantity*week_065[\"Product Price\"])"
   ]
  }
 ],
 "metadata": {
  "kernelspec": {
   "display_name": "Python 3",
   "language": "python",
   "name": "python3"
  },
  "language_info": {
   "codemirror_mode": {
    "name": "ipython",
    "version": 3
   },
   "file_extension": ".py",
   "mimetype": "text/x-python",
   "name": "python",
   "nbconvert_exporter": "python",
   "pygments_lexer": "ipython3",
   "version": "3.11.9"
  }
 },
 "nbformat": 4,
 "nbformat_minor": 2
}
