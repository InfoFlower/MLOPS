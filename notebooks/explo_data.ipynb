{
 "cells": [
  {
   "cell_type": "code",
   "execution_count": 4,
   "metadata": {},
   "outputs": [
    {
     "name": "stderr",
     "output_type": "stream",
     "text": [
      "ERROR: Could not find a version that satisfies the requirement os (from versions: none)\n",
      "ERROR: No matching distribution found for os\n",
      "\n",
      "[notice] A new release of pip is available: 24.0 -> 24.2\n",
      "[notice] To update, run: C:\\Users\\lenovo\\AppData\\Local\\Microsoft\\WindowsApps\\PythonSoftwareFoundation.Python.3.11_qbz5n2kfra8p0\\python.exe -m pip install --upgrade pip\n"
     ]
    }
   ],
   "source": [
    "#!pip install numpy\n",
    "#!pip install pandas"
   ]
  },
  {
   "cell_type": "code",
   "execution_count": 5,
   "metadata": {},
   "outputs": [],
   "source": [
    "import numpy as np\n",
    "import pandas as pd\n",
    "import os"
   ]
  },
  {
   "cell_type": "code",
   "execution_count": 1,
   "metadata": {},
   "outputs": [],
   "source": [
    "from utils import extract"
   ]
  },
  {
   "cell_type": "code",
   "execution_count": 2,
   "metadata": {},
   "outputs": [],
   "source": [
    "test=extract()"
   ]
  },
  {
   "cell_type": "code",
   "execution_count": 3,
   "metadata": {},
   "outputs": [
    {
     "data": {
      "text/html": [
       "<div>\n",
       "<style scoped>\n",
       "    .dataframe tbody tr th:only-of-type {\n",
       "        vertical-align: middle;\n",
       "    }\n",
       "\n",
       "    .dataframe tbody tr th {\n",
       "        vertical-align: top;\n",
       "    }\n",
       "\n",
       "    .dataframe thead th {\n",
       "        text-align: right;\n",
       "    }\n",
       "</style>\n",
       "<table border=\"1\" class=\"dataframe\">\n",
       "  <thead>\n",
       "    <tr style=\"text-align: right;\">\n",
       "      <th></th>\n",
       "      <th>Order Number</th>\n",
       "      <th>Order Date</th>\n",
       "      <th>Item Name</th>\n",
       "      <th>Quantity</th>\n",
       "      <th>Product Price</th>\n",
       "      <th>Total products</th>\n",
       "      <th>Week</th>\n",
       "    </tr>\n",
       "  </thead>\n",
       "  <tbody>\n",
       "    <tr>\n",
       "      <th>0</th>\n",
       "      <td>2188</td>\n",
       "      <td>2016-03-27 12:11:00</td>\n",
       "      <td>Mint Sauce</td>\n",
       "      <td>1</td>\n",
       "      <td>0.50</td>\n",
       "      <td>3</td>\n",
       "      <td>64</td>\n",
       "    </tr>\n",
       "    <tr>\n",
       "      <th>1</th>\n",
       "      <td>2183</td>\n",
       "      <td>2016-03-26 18:14:00</td>\n",
       "      <td>Onion Chutney</td>\n",
       "      <td>1</td>\n",
       "      <td>0.50</td>\n",
       "      <td>9</td>\n",
       "      <td>64</td>\n",
       "    </tr>\n",
       "    <tr>\n",
       "      <th>2</th>\n",
       "      <td>2164</td>\n",
       "      <td>2016-03-23 17:16:00</td>\n",
       "      <td>Onion Chutney</td>\n",
       "      <td>1</td>\n",
       "      <td>0.50</td>\n",
       "      <td>10</td>\n",
       "      <td>64</td>\n",
       "    </tr>\n",
       "    <tr>\n",
       "      <th>3</th>\n",
       "      <td>2164</td>\n",
       "      <td>2016-03-23 17:16:00</td>\n",
       "      <td>Mint Sauce</td>\n",
       "      <td>1</td>\n",
       "      <td>0.50</td>\n",
       "      <td>10</td>\n",
       "      <td>64</td>\n",
       "    </tr>\n",
       "    <tr>\n",
       "      <th>4</th>\n",
       "      <td>2164</td>\n",
       "      <td>2016-03-23 17:16:00</td>\n",
       "      <td>Red Sauce</td>\n",
       "      <td>1</td>\n",
       "      <td>0.50</td>\n",
       "      <td>10</td>\n",
       "      <td>64</td>\n",
       "    </tr>\n",
       "    <tr>\n",
       "      <th>...</th>\n",
       "      <td>...</td>\n",
       "      <td>...</td>\n",
       "      <td>...</td>\n",
       "      <td>...</td>\n",
       "      <td>...</td>\n",
       "      <td>...</td>\n",
       "      <td>...</td>\n",
       "    </tr>\n",
       "    <tr>\n",
       "      <th>456</th>\n",
       "      <td>9269</td>\n",
       "      <td>2018-04-19 22:46:00</td>\n",
       "      <td>King Prawn Shaslick</td>\n",
       "      <td>1</td>\n",
       "      <td>12.95</td>\n",
       "      <td>6</td>\n",
       "      <td>172</td>\n",
       "    </tr>\n",
       "    <tr>\n",
       "      <th>457</th>\n",
       "      <td>9236</td>\n",
       "      <td>2018-04-17 18:41:00</td>\n",
       "      <td>Bengal King Prawn</td>\n",
       "      <td>1</td>\n",
       "      <td>12.95</td>\n",
       "      <td>5</td>\n",
       "      <td>172</td>\n",
       "    </tr>\n",
       "    <tr>\n",
       "      <th>458</th>\n",
       "      <td>9225</td>\n",
       "      <td>2018-04-16 18:23:00</td>\n",
       "      <td>Hazary Lamb Chilli Garlic</td>\n",
       "      <td>1</td>\n",
       "      <td>12.95</td>\n",
       "      <td>4</td>\n",
       "      <td>172</td>\n",
       "    </tr>\n",
       "    <tr>\n",
       "      <th>459</th>\n",
       "      <td>9224</td>\n",
       "      <td>2018-04-16 18:18:00</td>\n",
       "      <td>Hazary Lamb Chilli Garlic</td>\n",
       "      <td>1</td>\n",
       "      <td>12.95</td>\n",
       "      <td>5</td>\n",
       "      <td>172</td>\n",
       "    </tr>\n",
       "    <tr>\n",
       "      <th>460</th>\n",
       "      <td>9224</td>\n",
       "      <td>2018-04-16 18:18:00</td>\n",
       "      <td>House Red wine 75cl</td>\n",
       "      <td>2</td>\n",
       "      <td>17.95</td>\n",
       "      <td>5</td>\n",
       "      <td>172</td>\n",
       "    </tr>\n",
       "  </tbody>\n",
       "</table>\n",
       "<p>1046 rows × 7 columns</p>\n",
       "</div>"
      ],
      "text/plain": [
       "     Order Number           Order Date                  Item Name  Quantity  \\\n",
       "0            2188  2016-03-27 12:11:00                 Mint Sauce         1   \n",
       "1            2183  2016-03-26 18:14:00              Onion Chutney         1   \n",
       "2            2164  2016-03-23 17:16:00              Onion Chutney         1   \n",
       "3            2164  2016-03-23 17:16:00                 Mint Sauce         1   \n",
       "4            2164  2016-03-23 17:16:00                  Red Sauce         1   \n",
       "..            ...                  ...                        ...       ...   \n",
       "456          9269  2018-04-19 22:46:00        King Prawn Shaslick         1   \n",
       "457          9236  2018-04-17 18:41:00          Bengal King Prawn         1   \n",
       "458          9225  2018-04-16 18:23:00  Hazary Lamb Chilli Garlic         1   \n",
       "459          9224  2018-04-16 18:18:00  Hazary Lamb Chilli Garlic         1   \n",
       "460          9224  2018-04-16 18:18:00        House Red wine 75cl         2   \n",
       "\n",
       "     Product Price  Total products  Week  \n",
       "0             0.50               3    64  \n",
       "1             0.50               9    64  \n",
       "2             0.50              10    64  \n",
       "3             0.50              10    64  \n",
       "4             0.50              10    64  \n",
       "..             ...             ...   ...  \n",
       "456          12.95               6   172  \n",
       "457          12.95               5   172  \n",
       "458          12.95               4   172  \n",
       "459          12.95               5   172  \n",
       "460          17.95               5   172  \n",
       "\n",
       "[1046 rows x 7 columns]"
      ]
     },
     "execution_count": 3,
     "metadata": {},
     "output_type": "execute_result"
    }
   ],
   "source": [
    "test"
   ]
  },
  {
   "cell_type": "code",
   "execution_count": null,
   "metadata": {},
   "outputs": [],
   "source": [
    "print(\"Nombre de commandes :\",len(week_064),\"\\n Nombre d'articles :\",len(np.unique(week_064['Item Name'])),\"\\n Prix moyen :\",np.average(week_064[\"Product Price\"]),\"\\n CA moyen :\",np.average(week_064[\"Product Price\"]*week_064[\"Quantity\"]))"
   ]
  },
  {
   "cell_type": "code",
   "execution_count": null,
   "metadata": {},
   "outputs": [],
   "source": [
    "print(\"Nombre de commandes :\",len(week_098),\"\\n Nombre d'articles :\",len(np.unique(week_098['Item Name'])),\"\\n Prix moyen :\",np.average(week_098[\"Product Price\"]),\"\\n CA moyen :\",np.average(week_098[\"Product Price\"]*week_098[\"Quantity\"]))"
   ]
  },
  {
   "cell_type": "code",
   "execution_count": null,
   "metadata": {},
   "outputs": [],
   "source": [
    "print(\"Nombre de commandes :\",len(week_172),\"\\n Nombre d'articles :\",len(np.unique(week_172['Item Name'])),\"\\n Prix moyen :\",np.average(week_172[\"Product Price\"]),\"\\n CA moyen :\",np.average(week_172[\"Product Price\"]*week_172[\"Quantity\"]))"
   ]
  },
  {
   "cell_type": "code",
   "execution_count": null,
   "metadata": {},
   "outputs": [],
   "source": [
    "week_064"
   ]
  },
  {
   "cell_type": "code",
   "execution_count": 43,
   "metadata": {},
   "outputs": [],
   "source": [
    "X=[week_064.Quantity,week_064[\"Product Price\"]]\n",
    "Y=np.array(round(sum(week_065.Quantity*week_065[\"Product Price\"]),2))"
   ]
  },
  {
   "cell_type": "code",
   "execution_count": null,
   "metadata": {},
   "outputs": [],
   "source": [
    "Y"
   ]
  },
  {
   "cell_type": "code",
   "execution_count": null,
   "metadata": {},
   "outputs": [],
   "source": [
    "regr=svm.SVR()\n",
    "regr.fit(X,Y.reshape(1,-1))"
   ]
  },
  {
   "cell_type": "code",
   "execution_count": null,
   "metadata": {},
   "outputs": [],
   "source": [
    "sum(week_065.Quantity*week_065[\"Product Price\"])"
   ]
  }
 ],
 "metadata": {
  "kernelspec": {
   "display_name": "Python 3",
   "language": "python",
   "name": "python3"
  },
  "language_info": {
   "codemirror_mode": {
    "name": "ipython",
    "version": 3
   },
   "file_extension": ".py",
   "mimetype": "text/x-python",
   "name": "python",
   "nbconvert_exporter": "python",
   "pygments_lexer": "ipython3",
   "version": "3.11.9"
  }
 },
 "nbformat": 4,
 "nbformat_minor": 2
}
