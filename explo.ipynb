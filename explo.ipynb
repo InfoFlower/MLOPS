{
 "cells": [
  {
   "cell_type": "code",
   "execution_count": 13,
   "metadata": {},
   "outputs": [],
   "source": [
    "import polars as pl\n",
    "import os\n",
    "import json\n",
    "from io import StringIO"
   ]
  },
  {
   "cell_type": "code",
   "execution_count": 32,
   "metadata": {},
   "outputs": [
    {
     "data": {
      "text/plain": [
       "Schema([('station_id', Int64),\n",
       "        ('num_bikes_available', Int64),\n",
       "        ('numBikesAvailable', Int64),\n",
       "        ('num_bikes_available_types',\n",
       "         List(Struct({'mechanical': Int64, 'ebike': Int64}))),\n",
       "        ('num_docks_available', Int64),\n",
       "        ('numDocksAvailable', Int64),\n",
       "        ('is_installed', Int64),\n",
       "        ('is_returning', Int64),\n",
       "        ('is_renting', Int64),\n",
       "        ('last_reported', Int64),\n",
       "        ('stationCode', String)])"
      ]
     },
     "execution_count": 32,
     "metadata": {},
     "output_type": "execute_result"
    }
   ],
   "source": [
    "with open(chemin_complet,'r') as f:\n",
    "    data=json.load(f)\n",
    "pl.DataFrame(data['data']['stations']).schema"
   ]
  }
 ],
 "metadata": {
  "kernelspec": {
   "display_name": ".env",
   "language": "python",
   "name": "python3"
  },
  "language_info": {
   "codemirror_mode": {
    "name": "ipython",
    "version": 3
   },
   "file_extension": ".py",
   "mimetype": "text/x-python",
   "name": "python",
   "nbconvert_exporter": "python",
   "pygments_lexer": "ipython3",
   "version": "3.11.9"
  }
 },
 "nbformat": 4,
 "nbformat_minor": 2
}
