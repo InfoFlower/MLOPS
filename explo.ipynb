{
 "cells": [
  {
   "cell_type": "code",
   "execution_count": 2,
   "metadata": {},
   "outputs": [],
   "source": [
    "import get_data as gd\n",
    "import polars as pl"
   ]
  },
  {
   "cell_type": "code",
   "execution_count": 6,
   "metadata": {},
   "outputs": [
    {
     "name": "stderr",
     "output_type": "stream",
     "text": [
      "UsageError: Line magic function `%which` not found.\n"
     ]
    }
   ],
   "source": [
    "%which python"
   ]
  },
  {
   "cell_type": "code",
   "execution_count": 4,
   "metadata": {},
   "outputs": [
    {
     "name": "stderr",
     "output_type": "stream",
     "text": [
      "2024-12-15 13:58:03,878 INFO:root:START GET DATA\n",
      "2024-12-15 13:58:03,879 INFO:root:CALLING https://velib-metropole-opendata.smovengo.cloud/opendata/Velib_Metropole/gbfs.json\n",
      "2024-12-15 13:58:03,886 DEBUG:urllib3.connectionpool:Starting new HTTPS connection (1): velib-metropole-opendata.smovengo.cloud:443\n",
      "2024-12-15 13:58:04,023 DEBUG:urllib3.connectionpool:https://velib-metropole-opendata.smovengo.cloud:443 \"GET /opendata/Velib_Metropole/gbfs.json HTTP/11\" 200 None\n",
      "2024-12-15 13:58:04,044 INFO:root:CALLING https://velib-metropole-opendata.smovengo.cloud/opendata/Velib_Metropole/gbfs.json\n",
      "2024-12-15 13:58:04,051 DEBUG:urllib3.connectionpool:Starting new HTTPS connection (1): velib-metropole-opendata.smovengo.cloud:443\n",
      "2024-12-15 13:58:04,145 DEBUG:urllib3.connectionpool:https://velib-metropole-opendata.smovengo.cloud:443 \"GET /opendata/Velib_Metropole/gbfs.json HTTP/11\" 200 None\n",
      "2024-12-15 13:58:04,145 INFO:root:CALLING https://velib-metropole-opendata.smovengo.cloud/opendata/Velib_Metropole/system_information.json\n",
      "2024-12-15 13:58:04,153 DEBUG:urllib3.connectionpool:Starting new HTTPS connection (1): velib-metropole-opendata.smovengo.cloud:443\n",
      "2024-12-15 13:58:04,286 DEBUG:urllib3.connectionpool:https://velib-metropole-opendata.smovengo.cloud:443 \"GET /opendata/Velib_Metropole/system_information.json HTTP/11\" 200 None\n",
      "2024-12-15 13:58:04,294 INFO:root:CALLING https://velib-metropole-opendata.smovengo.cloud/opendata/Velib_Metropole/station_information.json\n",
      "2024-12-15 13:58:04,302 DEBUG:urllib3.connectionpool:Starting new HTTPS connection (1): velib-metropole-opendata.smovengo.cloud:443\n",
      "2024-12-15 13:58:04,402 DEBUG:urllib3.connectionpool:https://velib-metropole-opendata.smovengo.cloud:443 \"GET /opendata/Velib_Metropole/station_information.json HTTP/11\" 200 None\n",
      "2024-12-15 13:58:04,449 INFO:root:CALLING https://velib-metropole-opendata.smovengo.cloud/opendata/Velib_Metropole/station_status.json\n",
      "2024-12-15 13:58:04,450 DEBUG:urllib3.connectionpool:Starting new HTTPS connection (1): velib-metropole-opendata.smovengo.cloud:443\n",
      "2024-12-15 13:58:04,591 DEBUG:urllib3.connectionpool:https://velib-metropole-opendata.smovengo.cloud:443 \"GET /opendata/Velib_Metropole/station_status.json HTTP/11\" 200 None\n"
     ]
    }
   ],
   "source": [
    "gd.proc_get_data()"
   ]
  },
  {
   "cell_type": "code",
   "execution_count": 2,
   "metadata": {},
   "outputs": [
    {
     "name": "stderr",
     "output_type": "stream",
     "text": [
      "2024-12-15 12:10:57,503 INFO:root:START GET DATA\n"
     ]
    },
    {
     "ename": "TypeError",
     "evalue": "get_api.__init__() missing 2 required positional arguments: 'api_key' and 'dtype'",
     "output_type": "error",
     "traceback": [
      "\u001b[1;31m---------------------------------------------------------------------------\u001b[0m",
      "\u001b[1;31mTypeError\u001b[0m                                 Traceback (most recent call last)",
      "Cell \u001b[1;32mIn[2], line 1\u001b[0m\n\u001b[1;32m----> 1\u001b[0m \u001b[43mgd\u001b[49m\u001b[38;5;241;43m.\u001b[39;49m\u001b[43mproc_get_data\u001b[49m\u001b[43m(\u001b[49m\u001b[43m)\u001b[49m\n",
      "File \u001b[1;32mc:\\Users\\lenovo\\Desktop\\Cours\\034_MLOPS\\get_data.py:8\u001b[0m, in \u001b[0;36mproc_get_data\u001b[1;34m()\u001b[0m\n\u001b[0;32m      6\u001b[0m \u001b[38;5;28;01mdef\u001b[39;00m \u001b[38;5;21mproc_get_data\u001b[39m():\n\u001b[0;32m      7\u001b[0m     logging\u001b[38;5;241m.\u001b[39minfo(\u001b[38;5;124m'\u001b[39m\u001b[38;5;124mSTART GET DATA\u001b[39m\u001b[38;5;124m'\u001b[39m)\n\u001b[1;32m----> 8\u001b[0m     api_calleur\u001b[38;5;241m=\u001b[39m\u001b[43mdc\u001b[49m\u001b[38;5;241;43m.\u001b[39;49m\u001b[43mget_api\u001b[49m\u001b[43m(\u001b[49m\u001b[43m)\u001b[49m\n\u001b[0;32m      9\u001b[0m     url\u001b[38;5;241m=\u001b[39m\u001b[38;5;124m'\u001b[39m\u001b[38;5;124mhttps://velib-metropole-opendata.smovengo.cloud/opendata/Velib_Metropole/gbfs.json\u001b[39m\u001b[38;5;124m'\u001b[39m\n\u001b[0;32m     10\u001b[0m     logging\u001b[38;5;241m.\u001b[39minfo(\u001b[38;5;124mf\u001b[39m\u001b[38;5;124m'\u001b[39m\u001b[38;5;124mCALLING \u001b[39m\u001b[38;5;132;01m{\u001b[39;00murl\u001b[38;5;132;01m}\u001b[39;00m\u001b[38;5;124m'\u001b[39m)\n",
      "\u001b[1;31mTypeError\u001b[0m: get_api.__init__() missing 2 required positional arguments: 'api_key' and 'dtype'"
     ]
    }
   ],
   "source": [
    "gd.proc_get_data()"
   ]
  }
 ],
 "metadata": {
  "kernelspec": {
   "display_name": ".env",
   "language": "python",
   "name": "python3"
  },
  "language_info": {
   "codemirror_mode": {
    "name": "ipython",
    "version": 3
   },
   "file_extension": ".py",
   "mimetype": "text/x-python",
   "name": "python",
   "nbconvert_exporter": "python",
   "pygments_lexer": "ipython3",
   "version": "3.11.9"
  }
 },
 "nbformat": 4,
 "nbformat_minor": 2
}
