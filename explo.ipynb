{
 "cells": [
  {
   "cell_type": "code",
   "execution_count": null,
   "metadata": {},
   "outputs": [],
   "source": [
    "%pip install mlflow"
   ]
  },
  {
   "cell_type": "code",
   "execution_count": 130,
   "metadata": {},
   "outputs": [],
   "source": [
    "from importlib import reload\n",
    "import ab_dataprocessing as dp\n",
    "import polars as pl\n"
   ]
  },
  {
   "cell_type": "code",
   "execution_count": 133,
   "metadata": {},
   "outputs": [
    {
     "name": "stderr",
     "output_type": "stream",
     "text": [
      "INFO:START GET DATA\n",
      "INFO:CALLING https://velib-metropole-opendata.smovengo.cloud/opendata/Velib_Metropole/gbfs.json\n",
      "INFO:FUNCTION API CALL TO DATA START\n",
      "DEBUG:Starting new HTTPS connection (1): velib-metropole-opendata.smovengo.cloud:443\n"
     ]
    },
    {
     "name": "stderr",
     "output_type": "stream",
     "text": [
      "DEBUG:https://velib-metropole-opendata.smovengo.cloud:443 \"GET /opendata/Velib_Metropole/gbfs.json HTTP/11\" 200 None\n",
      "INFO:CALLING https://velib-metropole-opendata.smovengo.cloud/opendata/Velib_Metropole/gbfs.json\n",
      "INFO:FUNCTION API CALL TO DATA START\n",
      "DEBUG:Starting new HTTPS connection (1): velib-metropole-opendata.smovengo.cloud:443\n",
      "DEBUG:https://velib-metropole-opendata.smovengo.cloud:443 \"GET /opendata/Velib_Metropole/gbfs.json HTTP/11\" 200 None\n",
      "INFO:CALLING https://velib-metropole-opendata.smovengo.cloud/opendata/Velib_Metropole/system_information.json\n",
      "INFO:FUNCTION API CALL TO DATA START\n",
      "DEBUG:Starting new HTTPS connection (1): velib-metropole-opendata.smovengo.cloud:443\n",
      "DEBUG:https://velib-metropole-opendata.smovengo.cloud:443 \"GET /opendata/Velib_Metropole/system_information.json HTTP/11\" 200 None\n",
      "INFO:CALLING https://velib-metropole-opendata.smovengo.cloud/opendata/Velib_Metropole/station_information.json\n",
      "INFO:FUNCTION API CALL TO DATA START\n",
      "DEBUG:Starting new HTTPS connection (1): velib-metropole-opendata.smovengo.cloud:443\n",
      "DEBUG:https://velib-metropole-opendata.smovengo.cloud:443 \"GET /opendata/Velib_Metropole/station_information.json HTTP/11\" 200 None\n",
      "INFO:CALLING https://velib-metropole-opendata.smovengo.cloud/opendata/Velib_Metropole/station_status.json\n",
      "INFO:FUNCTION API CALL TO DATA START\n",
      "DEBUG:Starting new HTTPS connection (1): velib-metropole-opendata.smovengo.cloud:443\n",
      "DEBUG:https://velib-metropole-opendata.smovengo.cloud:443 \"GET /opendata/Velib_Metropole/station_status.json HTTP/11\" 200 None\n"
     ]
    }
   ],
   "source": [
    "reload(dp)\n",
    "dp.proc_get_data()"
   ]
  }
 ],
 "metadata": {
  "kernelspec": {
   "display_name": "Python 3",
   "language": "python",
   "name": "python3"
  },
  "language_info": {
   "codemirror_mode": {
    "name": "ipython",
    "version": 3
   },
   "file_extension": ".py",
   "mimetype": "text/x-python",
   "name": "python",
   "nbconvert_exporter": "python",
   "pygments_lexer": "ipython3",
   "version": "3.11.9"
  }
 },
 "nbformat": 4,
 "nbformat_minor": 2
}
