{
 "cells": [
  {
   "cell_type": "code",
   "execution_count": 13,
   "metadata": {},
   "outputs": [],
   "source": [
    "import polars as pl\n",
    "import os\n",
    "import json\n",
    "from io import StringIO"
   ]
  },
  {
   "cell_type": "code",
   "execution_count": null,
   "metadata": {},
   "outputs": [],
   "source": []
  },
  {
   "cell_type": "code",
   "execution_count": 117,
   "metadata": {},
   "outputs": [
    {
     "name": "stdout",
     "output_type": "stream",
     "text": [
      "shape: (1,)\n",
      "Series: 'station_id' [i64]\n",
      "[\n",
      "\t213688169\n",
      "]\n",
      "shape: (1,)\n",
      "Series: 'stationCode' [str]\n",
      "[\n",
      "\t\"16107\"\n",
      "]\n",
      "shape: (1,)\n",
      "Series: 'name' [str]\n",
      "[\n",
      "\t\"Benjamin Godard - Victor Hugo\"\n",
      "]\n",
      "shape: (1,)\n",
      "Series: 'lat' [f64]\n",
      "[\n",
      "\t48.865983\n",
      "]\n",
      "shape: (1,)\n",
      "Series: 'lon' [f64]\n",
      "[\n",
      "\t2.275725\n",
      "]\n",
      "shape: (1,)\n",
      "Series: 'capacity' [i64]\n",
      "[\n",
      "\t35\n",
      "]\n",
      "shape: (1,)\n",
      "Series: 'rental_methods' [list[str]]\n",
      "[\n",
      "\tnull\n",
      "]\n"
     ]
    }
   ],
   "source": [
    "with open('data/.sys/stat_inf.json','r') as f:\n",
    "    data=json.load(f)\n",
    "for i in pl.DataFrame(data['data']['stations'])['name'=='Balzac - Champs Elysées'] : print(i)"
   ]
  }
 ],
 "metadata": {
  "kernelspec": {
   "display_name": ".env",
   "language": "python",
   "name": "python3"
  },
  "language_info": {
   "codemirror_mode": {
    "name": "ipython",
    "version": 3
   },
   "file_extension": ".py",
   "mimetype": "text/x-python",
   "name": "python",
   "nbconvert_exporter": "python",
   "pygments_lexer": "ipython3",
   "version": "3.11.9"
  }
 },
 "nbformat": 4,
 "nbformat_minor": 2
}
